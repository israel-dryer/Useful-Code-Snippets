{
 "cells": [
  {
   "cell_type": "markdown",
   "metadata": {},
   "source": [
    "# Generate fiscal year periods between a start and end period"
   ]
  },
  {
   "cell_type": "code",
   "execution_count": 1,
   "metadata": {},
   "outputs": [],
   "source": [
    "def fiscal_range(start, end):\n",
    "    period = start-1\n",
    "\n",
    "    while period < end:\n",
    "        if str(period)[-2:]=='12':\n",
    "            period +=89\n",
    "        else:\n",
    "            period += 1\n",
    "        yield period"
   ]
  },
  {
   "cell_type": "code",
   "execution_count": 2,
   "metadata": {},
   "outputs": [],
   "source": [
    "periods = fiscal_range(201501, 201607)"
   ]
  },
  {
   "cell_type": "markdown",
   "metadata": {},
   "source": [
    "Print the first 3 periods"
   ]
  },
  {
   "cell_type": "code",
   "execution_count": 3,
   "metadata": {},
   "outputs": [
    {
     "name": "stdout",
     "output_type": "stream",
     "text": [
      "201501\n",
      "201502\n",
      "201503\n"
     ]
    }
   ],
   "source": [
    "print(next(periods))\n",
    "print(next(periods))\n",
    "print(next(periods))"
   ]
  },
  {
   "cell_type": "markdown",
   "metadata": {},
   "source": [
    "Print the remaining periods"
   ]
  },
  {
   "cell_type": "code",
   "execution_count": 4,
   "metadata": {},
   "outputs": [
    {
     "name": "stdout",
     "output_type": "stream",
     "text": [
      "201504\n",
      "201505\n",
      "201506\n",
      "201507\n",
      "201508\n",
      "201509\n",
      "201510\n",
      "201511\n",
      "201512\n",
      "201601\n",
      "201602\n",
      "201603\n",
      "201604\n",
      "201605\n",
      "201606\n",
      "201607\n"
     ]
    }
   ],
   "source": [
    "for p in periods:\n",
    "    print(p)"
   ]
  }
 ],
 "metadata": {
  "kernelspec": {
   "display_name": "Python 3",
   "language": "python",
   "name": "python3"
  },
  "language_info": {
   "codemirror_mode": {
    "name": "ipython",
    "version": 3
   },
   "file_extension": ".py",
   "mimetype": "text/x-python",
   "name": "python",
   "nbconvert_exporter": "python",
   "pygments_lexer": "ipython3",
   "version": "3.7.3"
  }
 },
 "nbformat": 4,
 "nbformat_minor": 2
}
